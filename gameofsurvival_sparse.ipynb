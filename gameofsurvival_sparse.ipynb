{
 "cells": [
  {
   "cell_type": "code",
   "execution_count": 1,
   "metadata": {},
   "outputs": [],
   "source": [
    "import numpy as np\n",
    "import matplotlib.pyplot as plt\n",
    "import matplotlib.animation as animation\n",
    "import time\n",
    "import copy\n",
    "from matplotlib import rc\n",
    "from IPython.display import HTML\n",
    "import random as rnd\n",
    "%matplotlib inline"
   ]
  },
  {
   "cell_type": "code",
   "execution_count": 2,
   "metadata": {},
   "outputs": [],
   "source": [
    "### PARAMETERS ###\n",
    "updateInterval = 200\n",
    "epochs = 100\n",
    "world_size = 50\n",
    "group_size = 2\n",
    "\n",
    "alive = 1\n",
    "dead = 0"
   ]
  },
  {
   "cell_type": "code",
   "execution_count": null,
   "metadata": {},
   "outputs": [],
   "source": []
  },
  {
   "cell_type": "code",
   "execution_count": 3,
   "metadata": {},
   "outputs": [],
   "source": [
    "def init_grid(size): \n",
    "    return np.random.choice([0,1], size*size, p=[0.9, 0.1]).reshape(size, size) "
   ]
  },
  {
   "cell_type": "code",
   "execution_count": 4,
   "metadata": {},
   "outputs": [],
   "source": [
    "world = init_grid(world_size)\n",
    "group = init_grid(group_size)"
   ]
  },
  {
   "cell_type": "code",
   "execution_count": 5,
   "metadata": {},
   "outputs": [
    {
     "data": {
      "image/png": "[encoded data removed]",
      "text/plain": [
       "<Figure size 432x288 with 1 Axes>"
      ]
     },
     "metadata": {
      "needs_background": "light"
     },
     "output_type": "display_data"
    }
   ],
   "source": [
    "### PLOT INITIAL STATE\n",
    "plt.imshow(world)\n",
    "plt.show()"
   ]
  },
  {
   "cell_type": "code",
   "execution_count": 162,
   "metadata": {},
   "outputs": [],
   "source": [
    "## FUNCTIONS TO PASS FROM SPARSE TO MATRIX REPRESENTATION AND VICE VERSA\n",
    "\n",
    "## TAKE GRID (0 and 1) AS INPUT, RETURN LIST (of coordinates)\n",
    "def grid_to_list(grid):\n",
    "    population = np.argwhere(grid).tolist()\n",
    "    return population\n",
    "\n",
    "def grid_to_set(grid):\n",
    "    population = np.argwhere(grid).tolist()\n",
    "    population = tuple(map(tuple, population))\n",
    "    population = set(population)\n",
    "    return population\n",
    "## TAKE LIST (of coordinates) AS INPUT, RETURN GRID (of 0 and 1)\n",
    "def list_to_grid(population, world_size):\n",
    "    new_grid = np.zeros((world_size, world_size))\n",
    "    row_indices = population[:,0]\n",
    "    col_indices = population[:,1]\n",
    "    new_grid[row_indices,col_indices] = 1\n",
    "    return new_grid\n",
    "\n",
    "def set_to_grid(population, world_size):\n",
    "    new_grid = np.zeros((world_size, world_size))\n",
    "    population = list(population)\n",
    "    population = np.array(population)\n",
    "    row_indices = population[:,0]\n",
    "    col_indices = population[:,1]\n",
    "    new_grid[row_indices,col_indices] = 1\n",
    "    return new_grid"
   ]
  },
  {
   "cell_type": "code",
   "execution_count": 163,
   "metadata": {},
   "outputs": [],
   "source": [
    "alive_cells = grid_to_set(world)"
   ]
  },
  {
   "cell_type": "code",
   "execution_count": 164,
   "metadata": {},
   "outputs": [],
   "source": [
    "## Receive in input the coords of an alive cell\n",
    "## returns the coords of its neighbors\n",
    "## uses periodic boundary conditions\n",
    "def get_neighbours(element, world_size):\n",
    "    l = []\n",
    "    l.append( ( (element[0]-1)%world_size, (element[1]  )%world_size ) )\n",
    "    l.append( ( (element[0]-1)%world_size, (element[1]+1)%world_size ) )\n",
    "    l.append( ( (element[0]-1)%world_size, (element[1]-1)%world_size ) )\n",
    "    l.append( ( (element[0]  )%world_size, (element[1]+1)%world_size ) )\n",
    "    l.append( ( (element[0]  )%world_size, (element[1]-1)%world_size ) )\n",
    "    l.append( ( (element[0]+1)%world_size, (element[1]+1)%world_size ) )\n",
    "    l.append( ( (element[0]+1)%world_size, (element[1]-1)%world_size ) )\n",
    "    l.append( ( (element[0]+1)%world_size, (element[1]  )%world_size ) )\n",
    "    return l"
   ]
  },
  {
   "cell_type": "code",
   "execution_count": 165,
   "metadata": {},
   "outputs": [],
   "source": [
    "## SET OF RULES ON SPARSE SET\n",
    "def apply_rules(alive_cells, world_size):\n",
    "    counter = {}\n",
    "    for cell in alive_cells:\n",
    "        if index not in counter: ## You don't want to look twice at the same cell\n",
    "            counter[index] = 0   ## Initialize counter for alive cells\n",
    "        neighbours = get_neighbours(cell, world_size) ## Obtain a LIST containing the coordinates of neighbours\n",
    "        for n in neighbours:\n",
    "            if n not in counter: ## Cells not in the counter are currently dead\n",
    "                counter[n] = 1   ## Initialize them with 1 (the current neighbour)\n",
    "            else:                ## Cells already in the counter are alive\n",
    "                counter[n] += 1  ## Increment their counter by one\n",
    "    for c in counter:            ## Now look at the newly created list and apply rules\n",
    "        if (counter[c] < 2 or counter[c] > 3):\n",
    "            alive_cells.discard(c)\n",
    "        if (counter[c] == 3):\n",
    "            alive_cells.add(c)   ## Add or discard cells according to rules\n",
    "    return alive_cells           ## Return new array of alive cells"
   ]
  },
  {
   "cell_type": "code",
   "execution_count": 166,
   "metadata": {},
   "outputs": [],
   "source": [
    "## FUNCTION WHICH MAKES THE TIME STEP\n",
    "def time_step(alive_cells, world_size):\n",
    "    next_cell =  apply_rules(alive_cells, world_size)\n",
    "    return next_cell"
   ]
  },
  {
   "cell_type": "code",
   "execution_count": 177,
   "metadata": {},
   "outputs": [
    {
     "data": {
      "image/png": "[encoded data removed]",
      "text/plain": [
       "<Figure size 432x288 with 1 Axes>"
      ]
     },
     "metadata": {
      "needs_background": "light"
     },
     "output_type": "display_data"
    }
   ],
   "source": [
    "fig, ax = plt.subplots() \n",
    "img = ax.imshow(world, interpolation='none') \n",
    "\n",
    "alive_cells = time_step(alive_cells, world_size)\n",
    "new_world = set_to_grid(alive_cells, world_size)\n",
    "img.set_data(new_world)"
   ]
  },
  {
   "cell_type": "code",
   "execution_count": null,
   "metadata": {},
   "outputs": [],
   "source": []
  },
  {
   "cell_type": "code",
   "execution_count": null,
   "metadata": {},
   "outputs": [],
   "source": []
  }
 ],
 "metadata": {
  "kernelspec": {
   "display_name": "Python 3",
   "language": "python",
   "name": "python3"
  },
  "language_info": {
   "codemirror_mode": {
    "name": "ipython",
    "version": 3
   },
   "file_extension": ".py",
   "mimetype": "text/x-python",
   "name": "python",
   "nbconvert_exporter": "python",
   "pygments_lexer": "ipython3",
   "version": "3.6.3"
  }
 },
 "nbformat": 4,
 "nbformat_minor": 2
}
