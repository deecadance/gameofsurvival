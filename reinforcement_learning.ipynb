{
 "cells": [
  {
   "cell_type": "code",
   "execution_count": 1,
   "metadata": {},
   "outputs": [],
   "source": [
    "import numpy as np\n",
    "import matplotlib.pyplot as plt\n",
    "import matplotlib.animation as animation\n",
    "import time\n",
    "import copy\n",
    "from matplotlib import rc\n",
    "from IPython import display\n",
    "import random\n",
    "%matplotlib inline\n",
    "\n",
    "from gameofsurvival_libraries import init_grid, grid_to_list, grid_to_set, list_to_grid, set_to_grid\n",
    "from gameofsurvival_libraries import get_neighbours, apply_rules, fuzzy_rules, calculate_action, time_step\n",
    "from gameofsurvival_libraries import alive_cells"
   ]
  },
  {
   "cell_type": "code",
   "execution_count": 2,
   "metadata": {},
   "outputs": [],
   "source": [
    "######################\n",
    "####  PARAMETERS. ####\n",
    "######################\n",
    "epochs = 1000            ### Number of cycles\n",
    "world_size = 200        ### Linear dimensions of the (squared) world\n",
    "see_size = 20          ### DO NOT CHANGE. Dimension of the observable world.\n",
    "                       ### If you change it: you have to change the DRL model input size\n",
    "group_size = 5         ### DO NOT CHANGE. Linear dimensions of the (suqared) community\n",
    "                       ### If you change it: you have to change the DRL model output size\n",
    "filling = 0.05   ### How \"full\" the starting world is\n",
    "\n",
    "IsWorldFuzzy = False    ### \"Fuzzy\" world means that cells have a random chance of switching\n",
    "p_fuzzy = 1.0/world_size/world_size     ### Note that approx. P(1 switch) = world_size*world_size*p_fuzzy\n",
    "                       ### If world_size ~ 100, p_fuzzy should be ~ 0.01 ~ to get 100 events (over 10 thousand squares)\n",
    "\n",
    "alive = 1              ### Def. 1 alive and 0 dead \n",
    "dead = 0               ###\n",
    "start = time.time()"
   ]
  },
  {
   "cell_type": "code",
   "execution_count": 3,
   "metadata": {},
   "outputs": [
    {
     "name": "stdout",
     "output_type": "stream",
     "text": [
      "###STARTING WORLD CONFIGURATION###\n"
     ]
    },
    {
     "data": {
      "image/png": "[encoded data removed]",
      "text/plain": [
       "<Figure size 432x288 with 1 Axes>"
      ]
     },
     "metadata": {
      "needs_background": "light"
     },
     "output_type": "display_data"
    }
   ],
   "source": [
    "### Generate world and group at random\n",
    "world = init_grid(world_size)\n",
    "group = init_grid(group_size)\n",
    "\n",
    "### PLOT INITIAL STATE\n",
    "print(\"###STARTING WORLD CONFIGURATION###\")\n",
    "plt.imshow(world)\n",
    "plt.show()"
   ]
  },
  {
   "cell_type": "code",
   "execution_count": 1,
   "metadata": {},
   "outputs": [
    {
     "name": "stdout",
     "output_type": "stream",
     "text": [
      "['/Users/simonedicataldo/Desktop/gameofsurvival', '/Users/simonedicataldo/opt/anaconda3/lib/python37.zip', '/Users/simonedicataldo/opt/anaconda3/lib/python3.7', '/Users/simonedicataldo/opt/anaconda3/lib/python3.7/lib-dynload', '', '/Users/simonedicataldo/opt/anaconda3/lib/python3.7/site-packages', '/Users/simonedicataldo/opt/anaconda3/lib/python3.7/site-packages/aeosa', '/Users/simonedicataldo/opt/anaconda3/lib/python3.7/site-packages/IPython/extensions', '/Users/simonedicataldo/.ipython', '/usr/local/lib/python3.7/site-packages']\n"
     ]
    },
    {
     "name": "stderr",
     "output_type": "stream",
     "text": [
      "Using TensorFlow backend.\n"
     ]
    }
   ],
   "source": [
    "### IMPORTING KERAS MODULES!\n",
    "import sys\n",
    "sys.path.append('/usr/local/lib/python3.7/site-packages')\n",
    "print(sys.path)\n",
    "from tensorflow.keras.layers import Input, Conv2D, MaxPooling2D, ZeroPadding2D\n",
    "from tensorflow.keras.models import Model\n",
    "from tensorflow.keras.callbacks import TensorBoard\n",
    "from tensorflow.keras.datasets import mnist\n",
    "from rl.agents.dqn import DQNAgent\n",
    "from rl.policy import EpsGreedyQPolicy\n",
    "from rl.memory import SequentialMemory"
   ]
  },
  {
   "cell_type": "code",
   "execution_count": 2,
   "metadata": {},
   "outputs": [
    {
     "ename": "NameError",
     "evalue": "name 'InputLayer' is not defined",
     "output_type": "error",
     "traceback": [
      "\u001b[0;31m---------------------------------------------------------------------------\u001b[0m",
      "\u001b[0;31mNameError\u001b[0m                                 Traceback (most recent call last)",
      "\u001b[0;32m<ipython-input-2-9739db36eb63>\u001b[0m in \u001b[0;36m<module>\u001b[0;34m\u001b[0m\n\u001b[1;32m      1\u001b[0m \u001b[0mmodel\u001b[0m \u001b[0;34m=\u001b[0m \u001b[0mSequential\u001b[0m\u001b[0;34m(\u001b[0m\u001b[0;34m)\u001b[0m\u001b[0;34m\u001b[0m\u001b[0;34m\u001b[0m\u001b[0m\n\u001b[0;32m----> 2\u001b[0;31m \u001b[0mmodel\u001b[0m\u001b[0;34m.\u001b[0m\u001b[0madd\u001b[0m\u001b[0;34m(\u001b[0m\u001b[0mInputLayer\u001b[0m\u001b[0;34m(\u001b[0m\u001b[0mbatch_input_shape\u001b[0m\u001b[0;34m=\u001b[0m\u001b[0;34m(\u001b[0m\u001b[0;36m1\u001b[0m\u001b[0;34m,\u001b[0m \u001b[0;36m5\u001b[0m\u001b[0;34m)\u001b[0m\u001b[0;34m)\u001b[0m\u001b[0;34m)\u001b[0m\u001b[0;34m\u001b[0m\u001b[0;34m\u001b[0m\u001b[0m\n\u001b[0m\u001b[1;32m      3\u001b[0m \u001b[0mmodel\u001b[0m\u001b[0;34m.\u001b[0m\u001b[0madd\u001b[0m\u001b[0;34m(\u001b[0m\u001b[0mDense\u001b[0m\u001b[0;34m(\u001b[0m\u001b[0;36m10\u001b[0m\u001b[0;34m,\u001b[0m \u001b[0mactivation\u001b[0m\u001b[0;34m=\u001b[0m\u001b[0;34m'sigmoid'\u001b[0m\u001b[0;34m)\u001b[0m\u001b[0;34m)\u001b[0m\u001b[0;34m\u001b[0m\u001b[0;34m\u001b[0m\u001b[0m\n\u001b[1;32m      4\u001b[0m \u001b[0mmodel\u001b[0m\u001b[0;34m.\u001b[0m\u001b[0madd\u001b[0m\u001b[0;34m(\u001b[0m\u001b[0mDense\u001b[0m\u001b[0;34m(\u001b[0m\u001b[0;36m2\u001b[0m\u001b[0;34m,\u001b[0m \u001b[0mactivation\u001b[0m\u001b[0;34m=\u001b[0m\u001b[0;34m'linear'\u001b[0m\u001b[0;34m)\u001b[0m\u001b[0;34m)\u001b[0m\u001b[0;34m\u001b[0m\u001b[0;34m\u001b[0m\u001b[0m\n\u001b[1;32m      5\u001b[0m \u001b[0mmodel\u001b[0m\u001b[0;34m.\u001b[0m\u001b[0mcompile\u001b[0m\u001b[0;34m(\u001b[0m\u001b[0mloss\u001b[0m\u001b[0;34m=\u001b[0m\u001b[0;34m'mse'\u001b[0m\u001b[0;34m,\u001b[0m \u001b[0moptimizer\u001b[0m\u001b[0;34m=\u001b[0m\u001b[0;34m'adam'\u001b[0m\u001b[0;34m,\u001b[0m \u001b[0mmetrics\u001b[0m\u001b[0;34m=\u001b[0m\u001b[0;34m[\u001b[0m\u001b[0;34m'mae'\u001b[0m\u001b[0;34m]\u001b[0m\u001b[0;34m)\u001b[0m\u001b[0;34m\u001b[0m\u001b[0;34m\u001b[0m\u001b[0m\n",
      "\u001b[0;31mNameError\u001b[0m: name 'InputLayer' is not defined"
     ]
    }
   ],
   "source": [
    "def model():\n",
    "    input= Input(shape=(see_size, see_size, 1))\n",
    "    ## 20x20x1\n",
    "    x = Conv2D(8, (2, 2), activation='relu', padding='same')(input_img)\n",
    "    ## 20x20x8\n",
    "    x = MaxPooling2D((2, 2), padding='same')(x)\n",
    "    ## 10x10x4\n",
    "    x = Conv2D(16, (3, 3), activation='relu', padding='same')(x)\n",
    "    ## 10x10x16\n",
    "    x = MaxPooling2D((2, 2), padding='same')(x)\n",
    "    ## 5x5x16\n",
    "    x = Conv2D(25, (2, 2), activation='relu', padding='same')(x)\n",
    "    ## 5x5x25\n",
    "    encoded = MaxPooling2D((2, 2), padding='same', name='encoder')(x)\n",
    "    ## 4x4x8"
   ]
  },
  {
   "cell_type": "code",
   "execution_count": 4,
   "metadata": {},
   "outputs": [
    {
     "data": {
      "image/png": "[encoded data removed]",
      "text/plain": [
       "<Figure size 1008x864 with 1 Axes>"
      ]
     },
     "metadata": {},
     "output_type": "display_data"
    },
    {
     "ename": "KeyboardInterrupt",
     "evalue": "",
     "output_type": "error",
     "traceback": [
      "\u001b[0;31m---------------------------------------------------------------------------\u001b[0m",
      "\u001b[0;31mKeyboardInterrupt\u001b[0m                         Traceback (most recent call last)",
      "\u001b[0;32m<ipython-input-4-868d7428cb9d>\u001b[0m in \u001b[0;36m<module>\u001b[0;34m\u001b[0m\n\u001b[1;32m     25\u001b[0m     \u001b[0mdisplay\u001b[0m\u001b[0;34m.\u001b[0m\u001b[0mclear_output\u001b[0m\u001b[0;34m(\u001b[0m\u001b[0mwait\u001b[0m\u001b[0;34m=\u001b[0m\u001b[0;32mTrue\u001b[0m\u001b[0;34m)\u001b[0m\u001b[0;34m\u001b[0m\u001b[0;34m\u001b[0m\u001b[0m\n\u001b[1;32m     26\u001b[0m     \u001b[0mdisplay\u001b[0m\u001b[0;34m.\u001b[0m\u001b[0mdisplay\u001b[0m\u001b[0;34m(\u001b[0m\u001b[0mfig\u001b[0m\u001b[0;34m)\u001b[0m\u001b[0;34m\u001b[0m\u001b[0;34m\u001b[0m\u001b[0m\n\u001b[0;32m---> 27\u001b[0;31m     \u001b[0mtime\u001b[0m\u001b[0;34m.\u001b[0m\u001b[0msleep\u001b[0m\u001b[0;34m(\u001b[0m\u001b[0;36m0.1\u001b[0m\u001b[0;34m)\u001b[0m\u001b[0;34m\u001b[0m\u001b[0;34m\u001b[0m\u001b[0m\n\u001b[0m",
      "\u001b[0;31mKeyboardInterrupt\u001b[0m: "
     ]
    },
    {
     "data": {
      "image/png": "[encoded data removed]",
      "text/plain": [
       "<Figure size 1008x864 with 1 Axes>"
      ]
     },
     "metadata": {
      "needs_background": "light"
     },
     "output_type": "display_data"
    }
   ],
   "source": [
    "%matplotlib inline\n",
    "fig, ax = plt.subplots(figsize=(14, 12))\n",
    "fig.canvas.draw()\n",
    "img = ax.imshow(world, interpolation='none')\n",
    "action = np.zeros(group_size*group_size)\n",
    "\n",
    "## NOW: implement a real choice of action!!\n",
    "\n",
    "for i in range(epochs):\n",
    "    ### FIRST STEP: the agent performs an action on the world\n",
    "    next_world = set_to_grid(alive_cells, world_size)\n",
    "    next_world = calculate_action(action, next_world)\n",
    "    alive_cells = grid_to_set(next_world)\n",
    "    ### SECOND STEP: time evolution (including the action of the agent)\n",
    "    ### RETURNS: the reward, the status of the world, and the variable \"Done\"\n",
    "    reward, world, done = time_step(alive_cells, world_size, IsWorldFuzzy, p_fuzzy)\n",
    "    ### THIRD STEP: save \"old\" configuration\n",
    "    old_world = world\n",
    "    ### INFORMATIVE MESSAGE\n",
    "    if (i%(int(epochs/100))==0):\n",
    "        print(i/epochs*100, \"% of epochs done\")\n",
    "    ### PLOT WORLD STATUS\n",
    "    alive_cells = grid_to_set(world)\n",
    "    img.set_data(world)\n",
    "    display.clear_output(wait=True)\n",
    "    display.display(fig)\n",
    "    time.sleep(0.1)"
   ]
  },
  {
   "cell_type": "code",
   "execution_count": null,
   "metadata": {},
   "outputs": [],
   "source": []
  }
 ],
 "metadata": {
  "kernelspec": {
   "display_name": "Python 3",
   "language": "python",
   "name": "python3"
  },
  "language_info": {
   "codemirror_mode": {
    "name": "ipython",
    "version": 3
   },
   "file_extension": ".py",
   "mimetype": "text/x-python",
   "name": "python",
   "nbconvert_exporter": "python",
   "pygments_lexer": "ipython3",
   "version": "3.7.4"
  }
 },
 "nbformat": 4,
 "nbformat_minor": 2
}
