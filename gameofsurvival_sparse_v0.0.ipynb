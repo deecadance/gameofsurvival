{
 "cells": [
  {
   "cell_type": "code",
   "execution_count": 1,
   "metadata": {},
   "outputs": [],
   "source": [
    "import numpy as np\n",
    "import matplotlib.pyplot as plt\n",
    "import matplotlib.animation as animation\n",
    "import time\n",
    "import copy\n",
    "from matplotlib import rc\n",
    "from IPython import display\n",
    "import random as rnd\n",
    "%matplotlib inline"
   ]
  },
  {
   "cell_type": "code",
   "execution_count": 2,
   "metadata": {},
   "outputs": [],
   "source": [
    "### PARAMETERS ###\n",
    "updateInterval = 200\n",
    "epochs = 10\n",
    "world_size = 100\n",
    "group_size = 2\n",
    "\n",
    "alive = 1\n",
    "dead = 0"
   ]
  },
  {
   "cell_type": "code",
   "execution_count": null,
   "metadata": {},
   "outputs": [],
   "source": []
  },
  {
   "cell_type": "code",
   "execution_count": 3,
   "metadata": {},
   "outputs": [],
   "source": [
    "def init_grid(size): \n",
    "    return np.random.choice([0,1], size*size, p=[0.9, 0.1]).reshape(size, size) "
   ]
  },
  {
   "cell_type": "code",
   "execution_count": 4,
   "metadata": {},
   "outputs": [],
   "source": [
    "world = init_grid(world_size)\n",
    "group = init_grid(group_size)"
   ]
  },
  {
   "cell_type": "code",
   "execution_count": 5,
   "metadata": {},
   "outputs": [
    {
     "data": {
      "image/png": "[encoded data removed]",
      "text/plain": [
       "<Figure size 432x288 with 1 Axes>"
      ]
     },
     "metadata": {
      "needs_background": "light"
     },
     "output_type": "display_data"
    }
   ],
   "source": [
    "### PLOT INITIAL STATE\n",
    "plt.imshow(world)\n",
    "plt.show()"
   ]
  },
  {
   "cell_type": "code",
   "execution_count": 6,
   "metadata": {},
   "outputs": [],
   "source": [
    "## FUNCTIONS TO PASS FROM SPARSE TO MATRIX REPRESENTATION AND VICE VERSA\n",
    "\n",
    "## TAKE GRID (0 and 1) AS INPUT, RETURN LIST (of coordinates)\n",
    "def grid_to_list(grid):\n",
    "    population = np.argwhere(grid).tolist()\n",
    "    return population\n",
    "\n",
    "def grid_to_set(grid):\n",
    "    population = np.argwhere(grid).tolist()\n",
    "    population = tuple(map(tuple, population))\n",
    "    population = set(population)\n",
    "    return population\n",
    "## TAKE LIST (of coordinates) AS INPUT, RETURN GRID (of 0 and 1)\n",
    "def list_to_grid(population, world_size):\n",
    "    new_grid = np.zeros((world_size, world_size))\n",
    "    row_indices = population[:,0]\n",
    "    col_indices = population[:,1]\n",
    "    new_grid[row_indices,col_indices] = 1\n",
    "    return new_grid\n",
    "\n",
    "def set_to_grid(population, world_size):\n",
    "    new_grid = np.zeros((world_size, world_size))\n",
    "    population = list(population)\n",
    "    population = np.array(population, dtype = int)\n",
    "    row_indices = population[:,0]\n",
    "    col_indices = population[:,1]\n",
    "    new_grid[row_indices,col_indices] = 1\n",
    "    return new_grid"
   ]
  },
  {
   "cell_type": "code",
   "execution_count": 7,
   "metadata": {},
   "outputs": [],
   "source": [
    "alive_cells = grid_to_set(world)"
   ]
  },
  {
   "cell_type": "code",
   "execution_count": 8,
   "metadata": {},
   "outputs": [],
   "source": [
    "## Receive in input the coords of an alive cell\n",
    "## returns the coords of its neighbors\n",
    "## uses periodic boundary conditions\n",
    "def get_neighbours(element, world_size):\n",
    "    l = []\n",
    "    l.append( ( (element[0]-1)%world_size, (element[1]  )%world_size ) )\n",
    "    l.append( ( (element[0]-1)%world_size, (element[1]+1)%world_size ) )\n",
    "    l.append( ( (element[0]-1)%world_size, (element[1]-1)%world_size ) )\n",
    "    l.append( ( (element[0]  )%world_size, (element[1]+1)%world_size ) )\n",
    "    l.append( ( (element[0]  )%world_size, (element[1]-1)%world_size ) )\n",
    "    l.append( ( (element[0]+1)%world_size, (element[1]+1)%world_size ) )\n",
    "    l.append( ( (element[0]+1)%world_size, (element[1]-1)%world_size ) )\n",
    "    l.append( ( (element[0]+1)%world_size, (element[1]  )%world_size ) )\n",
    "    return l"
   ]
  },
  {
   "cell_type": "code",
   "execution_count": 9,
   "metadata": {},
   "outputs": [],
   "source": [
    "## SET OF RULES ON SPARSE SET\n",
    "def apply_rules(alive_cells, world_size):\n",
    "    counter = {}\n",
    "    for cell in alive_cells:\n",
    "        if cell not in counter: ## You don't want to look twice at the same cell\n",
    "            counter[cell] = 0   ## Initialize counter for alive cells\n",
    "        neighbours = get_neighbours(cell, world_size) ## Obtain a LIST containing the coordinates of neighbours\n",
    "        for n in neighbours:\n",
    "            if n not in counter: ## Cells not in the counter are currently dead\n",
    "                counter[n] = 1   ## Initialize them with 1 (the current neighbour)\n",
    "            else:                ## Cells already in the counter are alive\n",
    "                counter[n] += 1  ## Increment their counter by one\n",
    "    for c in counter:            ## Now look at the newly created list and apply rules\n",
    "        if (counter[c] < 2 or counter[c] > 3):\n",
    "            alive_cells.discard(c)\n",
    "        if (counter[c] == 3):\n",
    "            alive_cells.add(c)   ## Add or discard cells according to rules\n",
    "    return  "
   ]
  },
  {
   "cell_type": "code",
   "execution_count": 10,
   "metadata": {},
   "outputs": [],
   "source": [
    "## FUNCTION WHICH MAKES THE TIME STEP\n",
    "def time_step(alive_cells, world_size):\n",
    "    start = time.time()\n",
    "    apply_rules(alive_cells, world_size)\n",
    "    new_world = set_to_grid(alive_cells, world_size)\n",
    "    finish = time.time()\n",
    "    duration = finish - start\n",
    "    print(\"Step peformed in \", duration, \" seconds\")\n",
    "    return new_world"
   ]
  },
  {
   "cell_type": "code",
   "execution_count": null,
   "metadata": {},
   "outputs": [],
   "source": []
  },
  {
   "cell_type": "code",
   "execution_count": 11,
   "metadata": {},
   "outputs": [
    {
     "data": {
      "image/png": "[encoded data removed]",
      "text/plain": [
       "<Figure size 1008x864 with 1 Axes>"
      ]
     },
     "metadata": {},
     "output_type": "display_data"
    },
    {
     "data": {
      "image/png": "[encoded data removed]",
      "text/plain": [
       "<Figure size 1008x864 with 1 Axes>"
      ]
     },
     "metadata": {
      "needs_background": "light"
     },
     "output_type": "display_data"
    }
   ],
   "source": [
    "%matplotlib inline\n",
    "fig, ax = plt.subplots(figsize=(14, 12))\n",
    "fig.canvas.draw()\n",
    "img = ax.imshow(world, interpolation='none') \n",
    "for i in range(epochs):\n",
    "    new_world = time_step(alive_cells, world_size)\n",
    "    img.set_data(new_world)\n",
    "    display.clear_output(wait=True)\n",
    "    display.display(fig)\n",
    "    time.sleep(0.000001)"
   ]
  },
  {
   "cell_type": "code",
   "execution_count": null,
   "metadata": {},
   "outputs": [],
   "source": []
  },
  {
   "cell_type": "code",
   "execution_count": null,
   "metadata": {},
   "outputs": [],
   "source": []
  }
 ],
 "metadata": {
  "kernelspec": {
   "display_name": "Python 3",
   "language": "python",
   "name": "python3"
  },
  "language_info": {
   "codemirror_mode": {
    "name": "ipython",
    "version": 3
   },
   "file_extension": ".py",
   "mimetype": "text/x-python",
   "name": "python",
   "nbconvert_exporter": "python",
   "pygments_lexer": "ipython3",
   "version": "3.6.3"
  }
 },
 "nbformat": 4,
 "nbformat_minor": 2
}
